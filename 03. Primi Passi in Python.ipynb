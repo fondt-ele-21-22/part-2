{
 "cells": [
  {
   "cell_type": "markdown",
   "metadata": {
    "slideshow": {
     "slide_type": "slide"
    }
   },
   "source": [
    "# Sistema Operativo"
   ]
  },
  {
   "cell_type": "markdown",
   "metadata": {
    "slideshow": {
     "slide_type": "subslide"
    }
   },
   "source": [
    "## Il Sistema Operativo\n",
    "\n",
    "**Il sistema operativo è un insieme di programmi e librerie**\n",
    "\n",
    "<center>\n",
    "<img src=\"assets/stack.png\" width=30%/>\n",
    "</center>\n",
    "\n",
    "* Fa da interfaccia tra l'hardware ed i programmi applicativi\n",
    "* ...Realizzando a tutti gli effetti una _macchina virtuale_\n",
    "\n",
    "**In altre parole:**\n",
    "\n",
    "* Ci sono innumerevoli tipi di macchina fisica...\n",
    "* ...Ma un numero relativamente ridotto di SO\n",
    "  - E.g. Windows, OSX, Linux, iOS, Android..."
   ]
  }
 ],
 "metadata": {
  "celltoolbar": "Slideshow",
  "kernelspec": {
   "display_name": "Python 3 (ipykernel)",
   "language": "python",
   "name": "python3"
  },
  "language_info": {
   "codemirror_mode": {
    "name": "ipython",
    "version": 3
   },
   "file_extension": ".py",
   "mimetype": "text/x-python",
   "name": "python",
   "nbconvert_exporter": "python",
   "pygments_lexer": "ipython3",
   "version": "3.9.5"
  },
  "rise": {
   "center": false,
   "enable_chalkboard": true,
   "transition": "fade"
  }
 },
 "nbformat": 4,
 "nbformat_minor": 4
}
